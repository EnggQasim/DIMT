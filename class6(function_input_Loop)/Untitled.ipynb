{
 "cells": [
  {
   "cell_type": "markdown",
   "metadata": {},
   "source": [
    "# Input, Loop, User Define"
   ]
  },
  {
   "cell_type": "markdown",
   "metadata": {},
   "source": [
    "## Input(\"Prompt\", \"Value\")"
   ]
  },
  {
   "cell_type": "code",
   "execution_count": 2,
   "metadata": {},
   "outputs": [
    {
     "name": "stdout",
     "output_type": "stream",
     "text": [
      "What is your Name?Muhammad Qasim\n"
     ]
    },
    {
     "data": {
      "text/plain": [
       "'Muhammad Qasim'"
      ]
     },
     "execution_count": 2,
     "metadata": {},
     "output_type": "execute_result"
    }
   ],
   "source": [
    "input(\"What is your Name?\")"
   ]
  },
  {
   "cell_type": "code",
   "execution_count": 4,
   "metadata": {},
   "outputs": [
    {
     "name": "stdout",
     "output_type": "stream",
     "text": [
      "What is your Name?Muhammad Qasim\n",
      "How old are you?26\n",
      "What is your father name?Muhammad Aslam\n",
      "==============Client Detials=================\n",
      "Welcom Dear Muhammad Qasim S/o or D/o Muhammad Aslam\n",
      "You are 26 years old\n"
     ]
    }
   ],
   "source": [
    "name = input(\"What is your Name?\")\n",
    "age = input(\"How old are you?\")\n",
    "fname = input(\"What is your father name?\")\n",
    "\n",
    "print(\"==============Client Detials=================\")\n",
    "print(\"Welcom Dear \"+name+\" S/o or D/o \"+fname)\n",
    "print(\"You are \"+str(age)+\" years old\")\n"
   ]
  },
  {
   "cell_type": "markdown",
   "metadata": {},
   "source": [
    "# Loops\n",
    "- while\n",
    "- do while loop\n",
    "- for Loop\n",
    "    - counter\n",
    "    - condition\n",
    "    - increment / Decrement"
   ]
  },
  {
   "cell_type": "markdown",
   "metadata": {},
   "source": [
    "### While Loop\n",
    "(if conditon is True then execute block)"
   ]
  },
  {
   "cell_type": "code",
   "execution_count": 6,
   "metadata": {},
   "outputs": [
    {
     "name": "stdout",
     "output_type": "stream",
     "text": [
      "1\n",
      "2\n",
      "3\n",
      "4\n",
      "5\n",
      "6\n",
      "7\n",
      "8\n",
      "9\n"
     ]
    }
   ],
   "source": [
    "i = 1 # Counter\n",
    "while i < 10: # Condition\n",
    "    print(i)\n",
    "    i += 1 # Increment"
   ]
  },
  {
   "cell_type": "code",
   "execution_count": 8,
   "metadata": {},
   "outputs": [
    {
     "name": "stdout",
     "output_type": "stream",
     "text": [
      "Pakistan zinda bad 1\n",
      "Pakistan zinda bad 2\n",
      "Pakistan zinda bad 3\n",
      "Pakistan zinda bad 4\n",
      "Pakistan zinda bad 5\n",
      "Pakistan zinda bad 6\n",
      "Pakistan zinda bad 7\n",
      "Pakistan zinda bad 8\n",
      "Pakistan zinda bad 9\n"
     ]
    }
   ],
   "source": [
    "i = 1 # Counter\n",
    "while i < 10: # Condition\n",
    "    print(\"Pakistan zinda bad\",i)\n",
    "    # print(\"Pakistan zinda bad \"+str(i))\n",
    "    i += 1 # Increment"
   ]
  },
  {
   "cell_type": "code",
   "execution_count": 9,
   "metadata": {},
   "outputs": [
    {
     "name": "stdout",
     "output_type": "stream",
     "text": [
      "2018\n",
      "2017\n",
      "2016\n",
      "2015\n",
      "2014\n",
      "2013\n",
      "2012\n",
      "2011\n",
      "2010\n",
      "2009\n",
      "2008\n",
      "2007\n",
      "2006\n",
      "2005\n"
     ]
    }
   ],
   "source": [
    "a = 2018\n",
    "while a >= 2005:\n",
    "    print(a)\n",
    "    a = a-1 \n",
    "    # a -=1"
   ]
  },
  {
   "cell_type": "code",
   "execution_count": 10,
   "metadata": {},
   "outputs": [
    {
     "name": "stdout",
     "output_type": "stream",
     "text": [
      "2 X  1  = 2\n",
      "2 X  2  = 4\n",
      "2 X  3  = 6\n",
      "2 X  4  = 8\n",
      "2 X  5  = 10\n",
      "2 X  6  = 12\n",
      "2 X  7  = 14\n",
      "2 X  8  = 16\n",
      "2 X  9  = 18\n",
      "2 X  10  = 20\n"
     ]
    }
   ],
   "source": [
    "s=1\n",
    "while s<=10:\n",
    "    print(\"2 X \",s,\" =\", s*2)\n",
    "    s +=1"
   ]
  },
  {
   "cell_type": "code",
   "execution_count": 11,
   "metadata": {},
   "outputs": [],
   "source": [
    "s=15\n",
    "while s<=10:\n",
    "    print(\"2 X \",s,\" =\", s*2)\n",
    "    s +=1"
   ]
  },
  {
   "cell_type": "code",
   "execution_count": 12,
   "metadata": {},
   "outputs": [
    {
     "data": {
      "text/plain": [
       "False"
      ]
     },
     "execution_count": 12,
     "metadata": {},
     "output_type": "execute_result"
    }
   ],
   "source": [
    "s<=10"
   ]
  },
  {
   "cell_type": "markdown",
   "metadata": {},
   "source": [
    "# For Loop"
   ]
  },
  {
   "cell_type": "code",
   "execution_count": 16,
   "metadata": {},
   "outputs": [
    {
     "data": {
      "text/plain": [
       "[0, 1, 2, 3, 4, 5, 6, 7, 8, 9, 10]"
      ]
     },
     "execution_count": 16,
     "metadata": {},
     "output_type": "execute_result"
    }
   ],
   "source": [
    "list(range(11))"
   ]
  },
  {
   "cell_type": "code",
   "execution_count": 17,
   "metadata": {},
   "outputs": [
    {
     "name": "stdout",
     "output_type": "stream",
     "text": [
      "0\n",
      "1\n",
      "2\n",
      "3\n",
      "4\n",
      "5\n",
      "6\n",
      "7\n",
      "8\n",
      "9\n",
      "10\n"
     ]
    }
   ],
   "source": [
    "for n in list(range(11)):\n",
    "    print(n)"
   ]
  },
  {
   "cell_type": "code",
   "execution_count": 18,
   "metadata": {},
   "outputs": [
    {
     "name": "stdout",
     "output_type": "stream",
     "text": [
      "Taha\n",
      "Zubair\n",
      "Ezat\n",
      "Ali\n",
      "Hamza\n"
     ]
    }
   ],
   "source": [
    "names=[\"Taha\",\"Zubair\",\"Ezat\",\"Ali\",\"Hamza\"]\n",
    "i=0\n",
    "while i<=4:\n",
    "    print(names[i])\n",
    "    i+=1"
   ]
  },
  {
   "cell_type": "code",
   "execution_count": 23,
   "metadata": {},
   "outputs": [
    {
     "name": "stdout",
     "output_type": "stream",
     "text": [
      "Taha\n",
      "Zubair\n",
      "Ezat\n",
      "Ali\n",
      "Hamza\n"
     ]
    }
   ],
   "source": [
    "names=[\"Taha\",\"Zubair\",\"Ezat\",\"Ali\",\"Hamza\"]\n",
    "i=0\n",
    "while i < len(names):\n",
    "    print(names[i])\n",
    "    i+=1"
   ]
  },
  {
   "cell_type": "code",
   "execution_count": 21,
   "metadata": {},
   "outputs": [
    {
     "data": {
      "text/plain": [
       "5"
      ]
     },
     "execution_count": 21,
     "metadata": {},
     "output_type": "execute_result"
    }
   ],
   "source": [
    "len(names)"
   ]
  },
  {
   "cell_type": "code",
   "execution_count": 20,
   "metadata": {},
   "outputs": [
    {
     "name": "stdout",
     "output_type": "stream",
     "text": [
      "Taha\n",
      "Zubair\n",
      "Ezat\n",
      "Ali\n",
      "Hamza\n"
     ]
    }
   ],
   "source": [
    "for name in names:\n",
    "    print(name)"
   ]
  },
  {
   "cell_type": "code",
   "execution_count": 4,
   "metadata": {},
   "outputs": [
    {
     "name": "stdout",
     "output_type": "stream",
     "text": [
      " 'q' for exit.|Student Name:q\n",
      " 'q' for exit.How old are you?q\n",
      " 'q' for exit.Feeq\n",
      "q q q\n"
     ]
    }
   ],
   "source": [
    "names = [] # Empty list\n",
    "ages = [] # Empty list\n",
    "fees = [] # Empty List\n",
    "\n",
    "\n",
    "        \n",
    "        \n",
    "students=[]\n",
    "\n",
    "check = True\n",
    "while check:\n",
    "    \n",
    "    name=input(\" 'q' for exit.|Student Name:\")\n",
    "    checking()\n",
    "    age=input(\" 'q' for exit.How old are you?\")\n",
    "    checking()\n",
    "    fee=input(\" 'q' for exit.Fee\")\n",
    "    checking()\n",
    "    \n",
    "    if name=='q' or age=='q' or fee=='q':\n",
    "        check = False\n",
    "        for n, a, f in zip(names,ages,fees):\n",
    "            print(\"==============\")\n",
    "            print(\"Name:\",n,\" age\",a,\" fee\",f)            \n",
    "            print(\"==============\")\n",
    "        \n",
    "    students.append({\n",
    "        \"name\":name,\n",
    "        \"age\":age,\n",
    "        \"fee\":fee\n",
    "    })\n",
    "    for s in students:\n",
    "        print(s[\"name\"], s[\"age\"],s[\"fee\"])\n",
    "    \n",
    "        \n",
    "    names.append(name)\n",
    "    ages.append(age)\n",
    "    fees.append(fee)"
   ]
  },
  {
   "cell_type": "code",
   "execution_count": 24,
   "metadata": {},
   "outputs": [
    {
     "name": "stdout",
     "output_type": "stream",
     "text": [
      "['ali', 'hamza', 'junaid']\n",
      "[20, 22, 25]\n"
     ]
    }
   ],
   "source": [
    "l1 = ['ali','hamza','junaid']\n",
    "l2 = [20, 22,25]\n",
    "print(l1)\n",
    "print(l2)"
   ]
  },
  {
   "cell_type": "code",
   "execution_count": 26,
   "metadata": {},
   "outputs": [
    {
     "data": {
      "text/plain": [
       "[('ali', 20), ('hamza', 22), ('junaid', 25)]"
      ]
     },
     "execution_count": 26,
     "metadata": {},
     "output_type": "execute_result"
    }
   ],
   "source": [
    "c = zip(l1,l2)\n",
    "list(c)"
   ]
  },
  {
   "cell_type": "markdown",
   "metadata": {},
   "source": [
    "# User Define Function"
   ]
  },
  {
   "cell_type": "code",
   "execution_count": 5,
   "metadata": {},
   "outputs": [
    {
     "name": "stdout",
     "output_type": "stream",
     "text": [
      "The Zen of Python, by Tim Peters\n",
      "\n",
      "Beautiful is better than ugly.\n",
      "Explicit is better than implicit.\n",
      "Simple is better than complex.\n",
      "Complex is better than complicated.\n",
      "Flat is better than nested.\n",
      "Sparse is better than dense.\n",
      "Readability counts.\n",
      "Special cases aren't special enough to break the rules.\n",
      "Although practicality beats purity.\n",
      "Errors should never pass silently.\n",
      "Unless explicitly silenced.\n",
      "In the face of ambiguity, refuse the temptation to guess.\n",
      "There should be one-- and preferably only one --obvious way to do it.\n",
      "Although that way may not be obvious at first unless you're Dutch.\n",
      "Now is better than never.\n",
      "Although never is often better than *right* now.\n",
      "If the implementation is hard to explain, it's a bad idea.\n",
      "If the implementation is easy to explain, it may be a good idea.\n",
      "Namespaces are one honking great idea -- let's do more of those!\n"
     ]
    }
   ],
   "source": [
    "import this"
   ]
  },
  {
   "cell_type": "code",
   "execution_count": 6,
   "metadata": {},
   "outputs": [],
   "source": [
    "def describe(): # Function Decreation\n",
    "    print(\"====DIMT=====\")               # function body\n",
    "    print(\"Technical private Collage\")   # function body\n",
    "    print(\"Start A.I Class\")             # function body"
   ]
  },
  {
   "cell_type": "code",
   "execution_count": 7,
   "metadata": {},
   "outputs": [
    {
     "name": "stdout",
     "output_type": "stream",
     "text": [
      "====DIMT=====\n",
      "Technical private Collage\n",
      "Start A.I Class\n"
     ]
    }
   ],
   "source": [
    "describe() # Defualt function"
   ]
  },
  {
   "cell_type": "code",
   "execution_count": 9,
   "metadata": {},
   "outputs": [
    {
     "name": "stdout",
     "output_type": "stream",
     "text": [
      "Name:  Taha  age:  21  fee:  400\n"
     ]
    }
   ],
   "source": [
    "def std(name, age, fee): # parameter (Required Argument)\n",
    "    print(\"Name: \",name,\" age: \",age,\" fee: \",fee)\n",
    "    \n",
    "std(\"Taha\",21,400)"
   ]
  },
  {
   "cell_type": "code",
   "execution_count": 10,
   "metadata": {},
   "outputs": [
    {
     "ename": "TypeError",
     "evalue": "std() missing 2 required positional arguments: 'age' and 'fee'",
     "output_type": "error",
     "traceback": [
      "\u001b[1;31m---------------------------------------------------------------------------\u001b[0m",
      "\u001b[1;31mTypeError\u001b[0m                                 Traceback (most recent call last)",
      "\u001b[1;32m<ipython-input-10-d447f5ef5c52>\u001b[0m in \u001b[0;36m<module>\u001b[1;34m()\u001b[0m\n\u001b[1;32m----> 1\u001b[1;33m \u001b[0mstd\u001b[0m\u001b[1;33m(\u001b[0m\u001b[1;34m\"Zubair\"\u001b[0m\u001b[1;33m)\u001b[0m\u001b[1;33m\u001b[0m\u001b[0m\n\u001b[0m",
      "\u001b[1;31mTypeError\u001b[0m: std() missing 2 required positional arguments: 'age' and 'fee'"
     ]
    }
   ],
   "source": [
    "std(\"Zubair\")"
   ]
  },
  {
   "cell_type": "code",
   "execution_count": 14,
   "metadata": {},
   "outputs": [
    {
     "name": "stdout",
     "output_type": "stream",
     "text": [
      "Name:  Ali  age:  22\n"
     ]
    }
   ],
   "source": [
    "def student(name,age, fee=None): # ager equal sy value assign krdo to optional argument\n",
    "    if fee!=None:\n",
    "        print(\"Name: \",name,\" age: \",age,\" fee: \",fee)\n",
    "    else:\n",
    "         print(\"Name: \",name,\" age: \",age)\n",
    "student(\"Ali\",22)"
   ]
  },
  {
   "cell_type": "code",
   "execution_count": 13,
   "metadata": {},
   "outputs": [
    {
     "name": "stdout",
     "output_type": "stream",
     "text": [
      "Name:  Zubair  age:  22  fee:  3000\n"
     ]
    }
   ],
   "source": [
    "student(\"Zubair\",22,3000) # Postional Argument"
   ]
  },
  {
   "cell_type": "code",
   "execution_count": 15,
   "metadata": {},
   "outputs": [
    {
     "name": "stdout",
     "output_type": "stream",
     "text": [
      "Name:  Taha  age:  21  fee:  2000\n"
     ]
    }
   ],
   "source": [
    "student(name=\"Taha\", fee=2000, age=21) #  Key word argument"
   ]
  },
  {
   "cell_type": "code",
   "execution_count": 16,
   "metadata": {},
   "outputs": [
    {
     "data": {
      "text/plain": [
       "['Muhamad Qasim', 26, 4000]"
      ]
     },
     "execution_count": 16,
     "metadata": {},
     "output_type": "execute_result"
    }
   ],
   "source": [
    "l=[\"Muhamad Qasim\", 26, 4000]\n",
    "l"
   ]
  },
  {
   "cell_type": "code",
   "execution_count": 17,
   "metadata": {},
   "outputs": [
    {
     "name": "stdout",
     "output_type": "stream",
     "text": [
      "Name:  Muhamad Qasim  age:  26  fee:  4000\n"
     ]
    }
   ],
   "source": [
    "student(*l) # ager list sy value function me dalni hai tou single *"
   ]
  },
  {
   "cell_type": "code",
   "execution_count": 18,
   "metadata": {},
   "outputs": [],
   "source": [
    "l2={\n",
    "    'name':\"Taha\",\n",
    "    'fee': 2000,\n",
    "    'age': 21\n",
    "}"
   ]
  },
  {
   "cell_type": "code",
   "execution_count": 21,
   "metadata": {},
   "outputs": [
    {
     "name": "stdout",
     "output_type": "stream",
     "text": [
      "Name:  Taha  age:  21  fee:  2000\n"
     ]
    }
   ],
   "source": [
    "student(**l2) # Ager Dictionary sy function me value dalni hai tou **"
   ]
  },
  {
   "cell_type": "code",
   "execution_count": 28,
   "metadata": {},
   "outputs": [],
   "source": [
    "database=[\n",
    "    {\"user\":'Taha', \"pass\":\"123\"},\n",
    "    {\"user\":'Zubair', \"pass\":\"275\"},\n",
    "    {\"user\":\"Qasim\",\"pass\":\"admin175\"}\n",
    "]\n",
    "\n",
    "def login(user,password):\n",
    "    check=True\n",
    "    for u in database:\n",
    "        if user==u[\"user\"] and password==u[\"pass\"]:\n",
    "            print(\"VAlid User\")\n",
    "            check=False\n",
    "            break\n",
    "    if check:\n",
    "        print(\"Not Valid User\")\n",
    "    \n",
    "def singUp(user,password):\n",
    "    database.append({\n",
    "        'user':user,\n",
    "        'pass':password\n",
    "    })"
   ]
  },
  {
   "cell_type": "code",
   "execution_count": 29,
   "metadata": {},
   "outputs": [
    {
     "name": "stdout",
     "output_type": "stream",
     "text": [
      "VAlid User\n"
     ]
    }
   ],
   "source": [
    "login('Taha',\"123\")"
   ]
  },
  {
   "cell_type": "code",
   "execution_count": 30,
   "metadata": {},
   "outputs": [
    {
     "name": "stdout",
     "output_type": "stream",
     "text": [
      "Not Valid User\n"
     ]
    }
   ],
   "source": [
    "login(\"Qasim\",\"admin111\")"
   ]
  },
  {
   "cell_type": "code",
   "execution_count": 31,
   "metadata": {},
   "outputs": [],
   "source": [
    "singUp(\"Ezat\",\"123\")"
   ]
  },
  {
   "cell_type": "code",
   "execution_count": 32,
   "metadata": {},
   "outputs": [
    {
     "name": "stdout",
     "output_type": "stream",
     "text": [
      "VAlid User\n"
     ]
    }
   ],
   "source": [
    "login(\"Ezat\",\"123\")"
   ]
  },
  {
   "cell_type": "code",
   "execution_count": null,
   "metadata": {},
   "outputs": [],
   "source": []
  },
  {
   "cell_type": "code",
   "execution_count": null,
   "metadata": {},
   "outputs": [],
   "source": []
  }
 ],
 "metadata": {
  "kernelspec": {
   "display_name": "Python 3",
   "language": "python",
   "name": "python3"
  },
  "language_info": {
   "codemirror_mode": {
    "name": "ipython",
    "version": 3
   },
   "file_extension": ".py",
   "mimetype": "text/x-python",
   "name": "python",
   "nbconvert_exporter": "python",
   "pygments_lexer": "ipython3",
   "version": "3.6.4"
  }
 },
 "nbformat": 4,
 "nbformat_minor": 2
}
