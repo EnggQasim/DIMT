{
 "cells": [
  {
   "cell_type": "markdown",
   "metadata": {},
   "source": [
    "    # If Statement\n",
    "    - if\n",
    "    - else\n",
    "    - elif\n",
    "    - if and or not > < == >= <= !="
   ]
  },
  {
   "cell_type": "markdown",
   "metadata": {},
   "source": [
    "## if\n",
    "- logic\n",
    "- TRUE block\n",
    "- FALSE block"
   ]
  },
  {
   "cell_type": "code",
   "execution_count": 1,
   "metadata": {},
   "outputs": [
    {
     "name": "stdout",
     "output_type": "stream",
     "text": [
      "Pakistan\n"
     ]
    }
   ],
   "source": [
    "if True:\n",
    "    print(\"Pakistan\")\n",
    "else:\n",
    "    print(\"We are pakistani\")"
   ]
  },
  {
   "cell_type": "code",
   "execution_count": 2,
   "metadata": {},
   "outputs": [
    {
     "name": "stdout",
     "output_type": "stream",
     "text": [
      "We are pakistani\n"
     ]
    }
   ],
   "source": [
    "if False:\n",
    "    print(\"Pakistan\")\n",
    "else:\n",
    "    print(\"We are pakistani\")"
   ]
  },
  {
   "cell_type": "code",
   "execution_count": 3,
   "metadata": {},
   "outputs": [
    {
     "name": "stdout",
     "output_type": "stream",
     "text": [
      "Excellent\n"
     ]
    }
   ],
   "source": [
    "a = 200\n",
    "\n",
    "if a >= 100:\n",
    "    print(\"Excellent\")"
   ]
  },
  {
   "cell_type": "code",
   "execution_count": 4,
   "metadata": {},
   "outputs": [],
   "source": [
    "a = 50\n",
    "\n",
    "if a >= 100:\n",
    "    print(\"Excellent\")"
   ]
  },
  {
   "cell_type": "code",
   "execution_count": 5,
   "metadata": {},
   "outputs": [
    {
     "name": "stdout",
     "output_type": "stream",
     "text": [
      "Enter NO20\n"
     ]
    },
    {
     "data": {
      "text/plain": [
       "'20'"
      ]
     },
     "execution_count": 5,
     "metadata": {},
     "output_type": "execute_result"
    }
   ],
   "source": [
    "input(\"Enter NO\")"
   ]
  },
  {
   "cell_type": "markdown",
   "metadata": {},
   "source": [
    "### take input from user then apply logic"
   ]
  },
  {
   "cell_type": "code",
   "execution_count": 7,
   "metadata": {},
   "outputs": [
    {
     "name": "stdout",
     "output_type": "stream",
     "text": [
      "Enter any NO: 150\n",
      "Excellent\n"
     ]
    }
   ],
   "source": [
    "no = input(\"Enter any NO: \")\n",
    "\n",
    "if int(no) >= 100:\n",
    "    print(\"Excellent\")\n",
    "else:\n",
    "    print(\"Poor\")"
   ]
  },
  {
   "cell_type": "code",
   "execution_count": 8,
   "metadata": {},
   "outputs": [
    {
     "name": "stdout",
     "output_type": "stream",
     "text": [
      "Enter any NO: 80\n",
      "Poor\n"
     ]
    }
   ],
   "source": [
    "no = input(\"Enter any NO: \")\n",
    "\n",
    "if int(no) >= 100:\n",
    "    print(\"Excellent\")\n",
    "else:\n",
    "    print(\"Poor\")"
   ]
  },
  {
   "cell_type": "code",
   "execution_count": 11,
   "metadata": {},
   "outputs": [
    {
     "name": "stdout",
     "output_type": "stream",
     "text": [
      "int convert strring to intiger 50\n",
      "str convert number to string100\n",
      "List convert in list ['p', 'a', 'k', 'i', 's', 't', 'a', 'n']\n"
     ]
    }
   ],
   "source": [
    "print(\"int convert strring to intiger\",int('50'))\n",
    "print(\"str convert number to string \"+str(100))\n",
    "print(\"List convert in list\", list('pakistan'))"
   ]
  },
  {
   "cell_type": "markdown",
   "metadata": {},
   "source": [
    "# Grading System\n",
    "- 80%>= \"A+\"\n",
    "- 70%>= \"A\"\n",
    "- 60%>= \"B\"\n",
    "- 50%>= \"C\"\n",
    "- 50%< \"Fail\""
   ]
  },
  {
   "cell_type": "code",
   "execution_count": 14,
   "metadata": {},
   "outputs": [
    {
     "name": "stdout",
     "output_type": "stream",
     "text": [
      "Enter your percentage :80\n",
      "C\n"
     ]
    }
   ],
   "source": [
    "per = input(\"Enter your percentage :\")\n",
    "per = int(per)\n",
    "\n",
    "if per >= 50:\n",
    "    print(\"C\")\n",
    "elif per>= 60:\n",
    "    print(\"B\")\n",
    "elif per>= 70:\n",
    "    print(\"A\")\n",
    "elif per>= 80:\n",
    "    print(\"A+\")\n",
    "else:\n",
    "    print(\"Fail\")"
   ]
  },
  {
   "cell_type": "markdown",
   "metadata": {},
   "source": [
    "### AND(Lazmi)\n",
    "### OR (optional, YA)"
   ]
  },
  {
   "cell_type": "code",
   "execution_count": 15,
   "metadata": {},
   "outputs": [
    {
     "data": {
      "text/plain": [
       "True"
      ]
     },
     "execution_count": 15,
     "metadata": {},
     "output_type": "execute_result"
    }
   ],
   "source": [
    "50>=10 and 20>=15 and 15<=20"
   ]
  },
  {
   "cell_type": "code",
   "execution_count": 16,
   "metadata": {},
   "outputs": [
    {
     "data": {
      "text/plain": [
       "False"
      ]
     },
     "execution_count": 16,
     "metadata": {},
     "output_type": "execute_result"
    }
   ],
   "source": [
    "50>=10 and 20>=15 and 30<=20 and 50<=100"
   ]
  },
  {
   "cell_type": "code",
   "execution_count": 17,
   "metadata": {},
   "outputs": [
    {
     "data": {
      "text/plain": [
       "False"
      ]
     },
     "execution_count": 17,
     "metadata": {},
     "output_type": "execute_result"
    }
   ],
   "source": [
    "True and True and True and False"
   ]
  },
  {
   "cell_type": "code",
   "execution_count": 18,
   "metadata": {},
   "outputs": [
    {
     "data": {
      "text/plain": [
       "False"
      ]
     },
     "execution_count": 18,
     "metadata": {},
     "output_type": "execute_result"
    }
   ],
   "source": [
    "False and False and False"
   ]
  },
  {
   "cell_type": "code",
   "execution_count": 19,
   "metadata": {},
   "outputs": [
    {
     "data": {
      "text/plain": [
       "True"
      ]
     },
     "execution_count": 19,
     "metadata": {},
     "output_type": "execute_result"
    }
   ],
   "source": [
    "50>=10 or 20>=15 or 30<=20 or 50<=100"
   ]
  },
  {
   "cell_type": "code",
   "execution_count": 20,
   "metadata": {},
   "outputs": [
    {
     "data": {
      "text/plain": [
       "False"
      ]
     },
     "execution_count": 20,
     "metadata": {},
     "output_type": "execute_result"
    }
   ],
   "source": [
    "False or False or False"
   ]
  },
  {
   "cell_type": "code",
   "execution_count": 21,
   "metadata": {},
   "outputs": [
    {
     "data": {
      "text/plain": [
       "True"
      ]
     },
     "execution_count": 21,
     "metadata": {},
     "output_type": "execute_result"
    }
   ],
   "source": [
    "False or False or False or True or False or False or False or False or False"
   ]
  },
  {
   "cell_type": "code",
   "execution_count": 22,
   "metadata": {},
   "outputs": [
    {
     "name": "stdout",
     "output_type": "stream",
     "text": [
      "Enter your percentage :80\n",
      "A+\n"
     ]
    }
   ],
   "source": [
    "per = input(\"Enter your percentage :\")\n",
    "per = int(per)\n",
    "\n",
    "if per >= 50 and per < 60:\n",
    "    print(\"C\")\n",
    "elif per>= 60 and per < 70:\n",
    "    print(\"B\")\n",
    "elif per>= 70 and per < 80:\n",
    "    print(\"A\")\n",
    "elif per>= 80 and per <=100:\n",
    "    print(\"A+\")\n",
    "else:\n",
    "    print(\"Fail\")"
   ]
  },
  {
   "cell_type": "code",
   "execution_count": 24,
   "metadata": {},
   "outputs": [],
   "source": [
    "def grade(per):\n",
    "    per = int(per)\n",
    "\n",
    "    if per >= 50 and per < 60:\n",
    "        print(\"C\")\n",
    "    elif per>= 60 and per < 70:\n",
    "        print(\"B\")\n",
    "    elif per>= 70 and per < 80:\n",
    "        print(\"A\")\n",
    "    elif per>= 80 and per <=100:\n",
    "        print(\"A+\")\n",
    "    else:\n",
    "        print(\"Fail\")"
   ]
  },
  {
   "cell_type": "code",
   "execution_count": 26,
   "metadata": {},
   "outputs": [
    {
     "name": "stdout",
     "output_type": "stream",
     "text": [
      "Fail\n"
     ]
    }
   ],
   "source": [
    "grade(20)"
   ]
  },
  {
   "cell_type": "code",
   "execution_count": 27,
   "metadata": {},
   "outputs": [
    {
     "name": "stdout",
     "output_type": "stream",
     "text": [
      "Fail\n"
     ]
    }
   ],
   "source": [
    "grade(30)"
   ]
  },
  {
   "cell_type": "code",
   "execution_count": 28,
   "metadata": {},
   "outputs": [
    {
     "name": "stdout",
     "output_type": "stream",
     "text": [
      "A+\n"
     ]
    }
   ],
   "source": [
    "grade(90)"
   ]
  },
  {
   "cell_type": "code",
   "execution_count": 29,
   "metadata": {},
   "outputs": [
    {
     "name": "stdout",
     "output_type": "stream",
     "text": [
      "Enter no70\n",
      "A\n"
     ]
    }
   ],
   "source": [
    "a=input(\"Enter no\")\n",
    "grade(a)"
   ]
  },
  {
   "cell_type": "code",
   "execution_count": 34,
   "metadata": {},
   "outputs": [
    {
     "name": "stdout",
     "output_type": "stream",
     "text": [
      "Not valid\n"
     ]
    }
   ],
   "source": [
    "def login(user, password):\n",
    "    if user.lower()==\"admin\" and password.lower()==\"admin\":\n",
    "        print(\"Welcom\")\n",
    "    else:\n",
    "        print(\"Not valid\")\n",
    "        \n",
    "login('qasim','123')"
   ]
  },
  {
   "cell_type": "code",
   "execution_count": 33,
   "metadata": {},
   "outputs": [
    {
     "name": "stdout",
     "output_type": "stream",
     "text": [
      "Welcom\n"
     ]
    }
   ],
   "source": [
    "login('admin','admin')"
   ]
  },
  {
   "cell_type": "code",
   "execution_count": 35,
   "metadata": {},
   "outputs": [
    {
     "name": "stdout",
     "output_type": "stream",
     "text": [
      "Welcom\n"
     ]
    }
   ],
   "source": [
    "login(\"AdMiN\",\"aDmin\")"
   ]
  },
  {
   "cell_type": "code",
   "execution_count": 36,
   "metadata": {},
   "outputs": [
    {
     "name": "stdout",
     "output_type": "stream",
     "text": [
      "Welcom\n"
     ]
    }
   ],
   "source": [
    "login(user='admin', password='admin')"
   ]
  },
  {
   "cell_type": "code",
   "execution_count": 37,
   "metadata": {},
   "outputs": [],
   "source": [
    "def auth():\n",
    "    user = input(\"User: \")\n",
    "    password = input(\"Password: \")\n",
    "    dep = input(\"Enter your Depart Name: \")\n",
    "    \n",
    "    if (user=='admin') and (password=='admin') and (dep=='acc' or dep=='adm' or dep=='fin'):\n",
    "        print(\"Welcome\")\n",
    "    else:\n",
    "        print(\"Not Valid\")\n"
   ]
  },
  {
   "cell_type": "code",
   "execution_count": 38,
   "metadata": {},
   "outputs": [
    {
     "name": "stdout",
     "output_type": "stream",
     "text": [
      "User: admin\n",
      "Password: admin\n",
      "Enter your Depart Name: fin\n",
      "Welcome\n"
     ]
    }
   ],
   "source": [
    "auth()"
   ]
  },
  {
   "cell_type": "code",
   "execution_count": 39,
   "metadata": {},
   "outputs": [
    {
     "name": "stdout",
     "output_type": "stream",
     "text": [
      "User: admin\n",
      "Password: Admin\n",
      "Enter your Depart Name: fin\n",
      "Not Valid\n"
     ]
    }
   ],
   "source": [
    "auth()"
   ]
  },
  {
   "cell_type": "code",
   "execution_count": 40,
   "metadata": {},
   "outputs": [
    {
     "name": "stdout",
     "output_type": "stream",
     "text": [
      "User: admin\n",
      "Password: admin\n",
      "Enter your Depart Name: acc\n",
      "Welcome\n"
     ]
    }
   ],
   "source": [
    "auth()"
   ]
  },
  {
   "cell_type": "code",
   "execution_count": 41,
   "metadata": {},
   "outputs": [
    {
     "name": "stdout",
     "output_type": "stream",
     "text": [
      "User: admin\n",
      "Password: admin\n",
      "Enter your Depart Name: adm\n",
      "Welcome\n"
     ]
    }
   ],
   "source": [
    "auth()"
   ]
  },
  {
   "cell_type": "code",
   "execution_count": 42,
   "metadata": {},
   "outputs": [
    {
     "name": "stdout",
     "output_type": "stream",
     "text": [
      "User: Admin\n",
      "Password: ADMin\n",
      "Enter your Depart Name: acc\n",
      "Not Valid\n"
     ]
    }
   ],
   "source": [
    "auth()"
   ]
  },
  {
   "cell_type": "code",
   "execution_count": 43,
   "metadata": {},
   "outputs": [],
   "source": [
    "def auth1():\n",
    "    user = input(\"User: \")\n",
    "    password = input(\"Password: \")\n",
    "    dep = input(\"Enter your Depart Name: \")\n",
    "    \n",
    "    if (user=='admin') and (password=='admin') and (dep!='acc'):\n",
    "        print(\"Welcome\")\n",
    "    else:\n",
    "        print(\"Not Valid\")\n"
   ]
  },
  {
   "cell_type": "code",
   "execution_count": 44,
   "metadata": {},
   "outputs": [
    {
     "name": "stdout",
     "output_type": "stream",
     "text": [
      "User: admin\n",
      "Password: admin\n",
      "Enter your Depart Name: abc\n",
      "Welcome\n"
     ]
    }
   ],
   "source": [
    "auth1()"
   ]
  },
  {
   "cell_type": "code",
   "execution_count": 45,
   "metadata": {},
   "outputs": [
    {
     "name": "stdout",
     "output_type": "stream",
     "text": [
      "User: admin\n",
      "Password: admin\n",
      "Enter your Depart Name: acc\n",
      "Not Valid\n"
     ]
    }
   ],
   "source": [
    "auth1()"
   ]
  }
 ],
 "metadata": {
  "kernelspec": {
   "display_name": "Python 3",
   "language": "python",
   "name": "python3"
  },
  "language_info": {
   "codemirror_mode": {
    "name": "ipython",
    "version": 3
   },
   "file_extension": ".py",
   "mimetype": "text/x-python",
   "name": "python",
   "nbconvert_exporter": "python",
   "pygments_lexer": "ipython3",
   "version": "3.6.4"
  }
 },
 "nbformat": 4,
 "nbformat_minor": 2
}
