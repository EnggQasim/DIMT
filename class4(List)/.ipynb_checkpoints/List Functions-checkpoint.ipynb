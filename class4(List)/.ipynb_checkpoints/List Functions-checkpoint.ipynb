{
 "cells": [
  {
   "cell_type": "markdown",
   "metadata": {},
   "source": [
    "# List with pre define functions\n",
    "- slicing\n",
    "- append\n",
    "- pop\n",
    "- remove\n",
    "- insert\n",
    "\n",
    "## List Predefine function\n",
    "- append (insert value in last)\n",
    "- pop (remove value from last or define index postion)\n",
    "- insert (index, value)\n",
    "- copy (copy)\n",
    "- count (value count items in list)\n",
    "- remove (Remove base on text value)\n",
    "- reverse (Revers not sort)\n",
    "- extend (exted +, append)\n",
    "- sort (assccending or desccending order)\n",
    "- index (value return index positon)\n",
    "- clear (Clear All List Elements)\n"
   ]
  },
  {
   "cell_type": "markdown",
   "metadata": {},
   "source": [
    "## List"
   ]
  },
  {
   "cell_type": "code",
   "execution_count": 1,
   "metadata": {},
   "outputs": [
    {
     "data": {
      "text/plain": [
       "['Zubair', 'Taha', 'Ali', 'hamza', 'junaid', 'Rashid', 'Konain']"
      ]
     },
     "execution_count": 1,
     "metadata": {},
     "output_type": "execute_result"
    }
   ],
   "source": [
    "names = ['Zubair','Taha','Ali','hamza','junaid','Rashid','Konain']\n",
    "names"
   ]
  },
  {
   "cell_type": "code",
   "execution_count": 2,
   "metadata": {},
   "outputs": [
    {
     "data": {
      "text/plain": [
       "[20, 27, 33, 55, 66, 32, 80]"
      ]
     },
     "execution_count": 2,
     "metadata": {},
     "output_type": "execute_result"
    }
   ],
   "source": [
    "ages = [20,27,33,55,66,32,80]\n",
    "ages"
   ]
  },
  {
   "cell_type": "code",
   "execution_count": 3,
   "metadata": {},
   "outputs": [
    {
     "data": {
      "text/plain": [
       "['Hamza',\n",
       " 29,\n",
       " True,\n",
       " 20.66,\n",
       " ['Zubair', 'Taha', 'Ali', 'hamza', 'junaid', 'Rashid', 'Konain']]"
      ]
     },
     "execution_count": 3,
     "metadata": {},
     "output_type": "execute_result"
    }
   ],
   "source": [
    "l=['Hamza',29,True,20.66,names]\n",
    "l"
   ]
  },
  {
   "cell_type": "markdown",
   "metadata": {},
   "source": [
    "## Slicing"
   ]
  },
  {
   "cell_type": "code",
   "execution_count": 4,
   "metadata": {},
   "outputs": [
    {
     "data": {
      "text/plain": [
       "['Zubair', 'Taha', 'Ali', 'hamza', 'junaid', 'Rashid', 'Konain']"
      ]
     },
     "execution_count": 4,
     "metadata": {},
     "output_type": "execute_result"
    }
   ],
   "source": [
    "names"
   ]
  },
  {
   "cell_type": "markdown",
   "metadata": {},
   "source": [
    "# print one value base on index number. Index always start with 0 (zero)\n",
    "#### Note: Slicing always move farward\n",
    "- index no\n",
    "- start (inclusive)\n",
    "- end (exclusiv)\n",
    "- step"
   ]
  },
  {
   "cell_type": "code",
   "execution_count": 6,
   "metadata": {},
   "outputs": [
    {
     "name": "stdout",
     "output_type": "stream",
     "text": [
      "['Zubair', 'Taha', 'Ali', 'hamza', 'junaid', 'Rashid', 'Konain']\n"
     ]
    },
    {
     "data": {
      "text/plain": [
       "'Taha'"
      ]
     },
     "execution_count": 6,
     "metadata": {},
     "output_type": "execute_result"
    }
   ],
   "source": [
    "print(names)\n",
    "names[1] # square braket for call list index value, list, tuple, dictionary"
   ]
  },
  {
   "cell_type": "code",
   "execution_count": 7,
   "metadata": {},
   "outputs": [
    {
     "name": "stdout",
     "output_type": "stream",
     "text": [
      "Rashid\n"
     ]
    }
   ],
   "source": [
    "print(names[-2])"
   ]
  },
  {
   "cell_type": "code",
   "execution_count": 8,
   "metadata": {},
   "outputs": [
    {
     "name": "stdout",
     "output_type": "stream",
     "text": [
      "['Zubair', 'Taha', 'Ali', 'hamza', 'junaid', 'Rashid', 'Konain']\n",
      "['Ali', 'hamza', 'junaid']\n"
     ]
    }
   ],
   "source": [
    "print(names)\n",
    "print(names[2:5])"
   ]
  },
  {
   "cell_type": "code",
   "execution_count": 9,
   "metadata": {},
   "outputs": [
    {
     "name": "stdout",
     "output_type": "stream",
     "text": [
      "['Zubair', 'Ali', 'junaid', 'Konain']\n"
     ]
    }
   ],
   "source": [
    "print(names[::2]) ## start to end base on step2"
   ]
  },
  {
   "cell_type": "code",
   "execution_count": 10,
   "metadata": {},
   "outputs": [
    {
     "name": "stdout",
     "output_type": "stream",
     "text": [
      "['Konain', 'Rashid', 'junaid', 'hamza', 'Ali', 'Taha', 'Zubair']\n"
     ]
    }
   ],
   "source": [
    "print(names[::-1]) ## start to end base on step -1 reverse order"
   ]
  },
  {
   "cell_type": "code",
   "execution_count": 11,
   "metadata": {},
   "outputs": [
    {
     "name": "stdout",
     "output_type": "stream",
     "text": [
      "['Ali', 'hamza', 'junaid', 'Rashid', 'Konain']\n"
     ]
    }
   ],
   "source": [
    "print(names[2:]) # index 2 to last"
   ]
  },
  {
   "cell_type": "code",
   "execution_count": 12,
   "metadata": {},
   "outputs": [
    {
     "name": "stdout",
     "output_type": "stream",
     "text": [
      "['Zubair', 'Taha', 'Ali']\n"
     ]
    }
   ],
   "source": [
    "print(names[:3]) # start to index 2"
   ]
  },
  {
   "cell_type": "code",
   "execution_count": 13,
   "metadata": {},
   "outputs": [
    {
     "data": {
      "text/plain": [
       "['Zubair', 'Taha', 'Ali', 'hamza', 'junaid', 'Rashid', 'Konain']"
      ]
     },
     "execution_count": 13,
     "metadata": {},
     "output_type": "execute_result"
    }
   ],
   "source": [
    "students = names # Assign list Memory Refference\n",
    "students"
   ]
  },
  {
   "cell_type": "code",
   "execution_count": 14,
   "metadata": {},
   "outputs": [
    {
     "data": {
      "text/plain": [
       "['Zubair', 'Muhammad Taha', 'Ali', 'hamza', 'junaid', 'Rashid', 'Konain']"
      ]
     },
     "execution_count": 14,
     "metadata": {},
     "output_type": "execute_result"
    }
   ],
   "source": [
    "students[1]=\"Muhammad Taha\" #Update value with Slicing\n",
    "students"
   ]
  },
  {
   "cell_type": "code",
   "execution_count": 15,
   "metadata": {},
   "outputs": [
    {
     "data": {
      "text/plain": [
       "['Zubair', 'Muhammad Taha', 'Ali', 'hamza', 'junaid', 'Rashid', 'Konain']"
      ]
     },
     "execution_count": 15,
     "metadata": {},
     "output_type": "execute_result"
    }
   ],
   "source": [
    "names"
   ]
  },
  {
   "cell_type": "code",
   "execution_count": 16,
   "metadata": {},
   "outputs": [
    {
     "data": {
      "text/plain": [
       "2807129538608"
      ]
     },
     "execution_count": 16,
     "metadata": {},
     "output_type": "execute_result"
    }
   ],
   "source": [
    "id(names[1])"
   ]
  },
  {
   "cell_type": "code",
   "execution_count": 17,
   "metadata": {},
   "outputs": [
    {
     "data": {
      "text/plain": [
       "2807129538608"
      ]
     },
     "execution_count": 17,
     "metadata": {},
     "output_type": "execute_result"
    }
   ],
   "source": [
    "id(students[1])"
   ]
  },
  {
   "cell_type": "code",
   "execution_count": 18,
   "metadata": {},
   "outputs": [
    {
     "data": {
      "text/plain": [
       "['Zubair', 'Muhammad Taha Khan', 'Ali', 'hamza', 'junaid', 'Rashid', 'Konain']"
      ]
     },
     "execution_count": 18,
     "metadata": {},
     "output_type": "execute_result"
    }
   ],
   "source": [
    "dimt_students = names[:] # Copy create new memory Refference\n",
    "dimt_students[1]=\"Muhammad Taha Khan\"\n",
    "dimt_students"
   ]
  },
  {
   "cell_type": "code",
   "execution_count": 19,
   "metadata": {},
   "outputs": [
    {
     "data": {
      "text/plain": [
       "'Muhammad Taha'"
      ]
     },
     "execution_count": 19,
     "metadata": {},
     "output_type": "execute_result"
    }
   ],
   "source": [
    "names[1]"
   ]
  },
  {
   "cell_type": "code",
   "execution_count": 20,
   "metadata": {},
   "outputs": [
    {
     "data": {
      "text/plain": [
       "2807129538608"
      ]
     },
     "execution_count": 20,
     "metadata": {},
     "output_type": "execute_result"
    }
   ],
   "source": [
    "id(names[1])"
   ]
  },
  {
   "cell_type": "code",
   "execution_count": 21,
   "metadata": {},
   "outputs": [
    {
     "data": {
      "text/plain": [
       "2807130019784"
      ]
     },
     "execution_count": 21,
     "metadata": {},
     "output_type": "execute_result"
    }
   ],
   "source": [
    "id(dimt_students[1])"
   ]
  },
  {
   "cell_type": "code",
   "execution_count": 23,
   "metadata": {},
   "outputs": [
    {
     "name": "stdout",
     "output_type": "stream",
     "text": [
      "['Zubair', 'H', 'a', 'm', 'z', 'a', 'Rashid', 'Konain']\n"
     ]
    },
    {
     "data": {
      "text/plain": [
       "['Zubair', 'H', 'a', 'm', 'z', 'a', 'a', 'Rashid', 'Konain']"
      ]
     },
     "execution_count": 23,
     "metadata": {},
     "output_type": "execute_result"
    }
   ],
   "source": [
    "print(dimt_students)\n",
    "dimt_students[1:5]=\"Hamza\"\n",
    "dimt_students"
   ]
  },
  {
   "cell_type": "code",
   "execution_count": 24,
   "metadata": {},
   "outputs": [],
   "source": [
    "names[1:4]=\"0\""
   ]
  },
  {
   "cell_type": "code",
   "execution_count": 25,
   "metadata": {},
   "outputs": [
    {
     "data": {
      "text/plain": [
       "['Zubair', '0', 'junaid', 'Rashid', 'Konain']"
      ]
     },
     "execution_count": 25,
     "metadata": {},
     "output_type": "execute_result"
    }
   ],
   "source": [
    "names"
   ]
  },
  {
   "cell_type": "code",
   "execution_count": 26,
   "metadata": {},
   "outputs": [
    {
     "data": {
      "text/plain": [
       "['Zubair', '0', 'junaid', 'Rashid', 'Konain']"
      ]
     },
     "execution_count": 26,
     "metadata": {},
     "output_type": "execute_result"
    }
   ],
   "source": [
    "students"
   ]
  },
  {
   "cell_type": "code",
   "execution_count": 27,
   "metadata": {},
   "outputs": [
    {
     "data": {
      "text/plain": [
       "['Zubair', '0', 'junaid', 'Rashid', 'Konain']"
      ]
     },
     "execution_count": 27,
     "metadata": {},
     "output_type": "execute_result"
    }
   ],
   "source": [
    "names"
   ]
  },
  {
   "cell_type": "code",
   "execution_count": 28,
   "metadata": {},
   "outputs": [
    {
     "data": {
      "text/plain": [
       "['junaid', 'Rashid', 'Konain']"
      ]
     },
     "execution_count": 28,
     "metadata": {},
     "output_type": "execute_result"
    }
   ],
   "source": [
    "names[-3:] #Move Farward"
   ]
  },
  {
   "cell_type": "code",
   "execution_count": 29,
   "metadata": {},
   "outputs": [
    {
     "data": {
      "text/plain": [
       "[]"
      ]
     },
     "execution_count": 29,
     "metadata": {},
     "output_type": "execute_result"
    }
   ],
   "source": [
    "names[-3:-5]"
   ]
  },
  {
   "cell_type": "code",
   "execution_count": 30,
   "metadata": {},
   "outputs": [
    {
     "data": {
      "text/plain": [
       "['junaid', '0']"
      ]
     },
     "execution_count": 30,
     "metadata": {},
     "output_type": "execute_result"
    }
   ],
   "source": [
    "names[-3:-5:-1]"
   ]
  },
  {
   "cell_type": "code",
   "execution_count": 31,
   "metadata": {},
   "outputs": [
    {
     "data": {
      "text/plain": [
       "['junaid', '0', 'Zubair']"
      ]
     },
     "execution_count": 31,
     "metadata": {},
     "output_type": "execute_result"
    }
   ],
   "source": [
    "names[-3::-1]"
   ]
  },
  {
   "cell_type": "markdown",
   "metadata": {},
   "source": [
    "## List Pre Define Functions"
   ]
  },
  {
   "cell_type": "code",
   "execution_count": 34,
   "metadata": {},
   "outputs": [
    {
     "data": {
      "text/plain": [
       "['Zubair', '0', 'junaid', 'Rashid', 'Konain']"
      ]
     },
     "execution_count": 34,
     "metadata": {},
     "output_type": "execute_result"
    }
   ],
   "source": [
    "names"
   ]
  },
  {
   "cell_type": "code",
   "execution_count": 36,
   "metadata": {},
   "outputs": [
    {
     "data": {
      "text/plain": [
       "['Zubair',\n",
       " '0',\n",
       " 'junaid',\n",
       " 'Rashid',\n",
       " 'Konain',\n",
       " 'Qasim',\n",
       " 'Asif',\n",
       " 'Yasir',\n",
       " 'Qasim',\n",
       " 'Rashid',\n",
       " 'Qasim',\n",
       " 'Asif',\n",
       " 'Yasir',\n",
       " 'Qasim',\n",
       " 'Rashid']"
      ]
     },
     "execution_count": 36,
     "metadata": {},
     "output_type": "execute_result"
    }
   ],
   "source": [
    "names += ['Qasim',\"Asif\",'Yasir','Qasim','Rashid']\n",
    "names"
   ]
  },
  {
   "cell_type": "code",
   "execution_count": 37,
   "metadata": {},
   "outputs": [
    {
     "data": {
      "text/plain": [
       "4"
      ]
     },
     "execution_count": 37,
     "metadata": {},
     "output_type": "execute_result"
    }
   ],
   "source": [
    "names.count('Qasim')"
   ]
  },
  {
   "cell_type": "code",
   "execution_count": 38,
   "metadata": {},
   "outputs": [
    {
     "data": {
      "text/plain": [
       "3"
      ]
     },
     "execution_count": 38,
     "metadata": {},
     "output_type": "execute_result"
    }
   ],
   "source": [
    "names.count('Rashid')"
   ]
  },
  {
   "cell_type": "code",
   "execution_count": 39,
   "metadata": {},
   "outputs": [
    {
     "data": {
      "text/plain": [
       "['Zubair',\n",
       " '0',\n",
       " 'junaid',\n",
       " 'Rashid',\n",
       " 'Konain',\n",
       " 'Qasim',\n",
       " 'Asif',\n",
       " 'Yasir',\n",
       " 'Qasim',\n",
       " 'Rashid',\n",
       " 'Qasim',\n",
       " 'Asif',\n",
       " 'Yasir',\n",
       " 'Qasim',\n",
       " 'Rashid',\n",
       " 'Ezat Ullah Khan']"
      ]
     },
     "execution_count": 39,
     "metadata": {},
     "output_type": "execute_result"
    }
   ],
   "source": [
    "names.append('Ezat Ullah Khan') # Add value in last\n",
    "names"
   ]
  },
  {
   "cell_type": "code",
   "execution_count": 40,
   "metadata": {},
   "outputs": [
    {
     "data": {
      "text/plain": [
       "['Zubair',\n",
       " '0',\n",
       " 'junaid',\n",
       " 'Rashid',\n",
       " 'Konain',\n",
       " 'Qasim',\n",
       " 'Asif',\n",
       " 'Yasir',\n",
       " 'Qasim',\n",
       " 'Rashid',\n",
       " 'Qasim',\n",
       " 'Asif',\n",
       " 'Yasir',\n",
       " 'Qasim',\n",
       " 'Rashid',\n",
       " 'Ezat Ullah Khan',\n",
       " 'Hussnain']"
      ]
     },
     "execution_count": 40,
     "metadata": {},
     "output_type": "execute_result"
    }
   ],
   "source": [
    "names.append('Hussnain')\n",
    "names"
   ]
  },
  {
   "cell_type": "code",
   "execution_count": 43,
   "metadata": {},
   "outputs": [
    {
     "data": {
      "text/plain": [
       "['Ali',\n",
       " 'Ali',\n",
       " 'Zubair',\n",
       " 'Abid Khan',\n",
       " '0',\n",
       " 'junaid',\n",
       " 'Rashid',\n",
       " 'Konain',\n",
       " 'Qasim',\n",
       " 'Asif',\n",
       " 'Yasir',\n",
       " 'Qasim',\n",
       " 'Rashid',\n",
       " 'Qasim',\n",
       " 'Asif',\n",
       " 'Yasir',\n",
       " 'Qasim',\n",
       " 'Rashid',\n",
       " 'Ezat Ullah Khan',\n",
       " 'Hussnain']"
      ]
     },
     "execution_count": 43,
     "metadata": {},
     "output_type": "execute_result"
    }
   ],
   "source": [
    "names.insert(0,\"Ali\")\n",
    "names.insert(3,'Abid Khan')\n",
    "names"
   ]
  },
  {
   "cell_type": "code",
   "execution_count": 45,
   "metadata": {},
   "outputs": [
    {
     "data": {
      "text/plain": [
       "['Abid Khan',\n",
       " '0',\n",
       " 'junaid',\n",
       " 'Rashid',\n",
       " 'Konain',\n",
       " 'Qasim',\n",
       " 'Asif',\n",
       " 'Yasir',\n",
       " 'Qasim',\n",
       " 'Rashid',\n",
       " 'Qasim',\n",
       " 'Asif',\n",
       " 'Yasir',\n",
       " 'Qasim',\n",
       " 'Rashid',\n",
       " 'Ezat Ullah Khan',\n",
       " 'Hussnain']"
      ]
     },
     "execution_count": 45,
     "metadata": {},
     "output_type": "execute_result"
    }
   ],
   "source": [
    "del names[0]\n",
    "del names[0]\n",
    "names"
   ]
  },
  {
   "cell_type": "code",
   "execution_count": 46,
   "metadata": {},
   "outputs": [],
   "source": [
    "del_items=[]"
   ]
  },
  {
   "cell_type": "code",
   "execution_count": 47,
   "metadata": {},
   "outputs": [],
   "source": [
    "d=names.pop() # Defualt Remove value from last index otherwise you can define index\n",
    "del_items.append(d)"
   ]
  },
  {
   "cell_type": "code",
   "execution_count": 48,
   "metadata": {},
   "outputs": [
    {
     "data": {
      "text/plain": [
       "['Hussnain']"
      ]
     },
     "execution_count": 48,
     "metadata": {},
     "output_type": "execute_result"
    }
   ],
   "source": [
    "del_items"
   ]
  },
  {
   "cell_type": "code",
   "execution_count": 49,
   "metadata": {},
   "outputs": [],
   "source": [
    "d=names.pop(2) # Defualt Remove value from last index otherwise you can define index\n",
    "del_items.append(d)"
   ]
  },
  {
   "cell_type": "code",
   "execution_count": 50,
   "metadata": {},
   "outputs": [
    {
     "data": {
      "text/plain": [
       "['Hussnain', 'junaid']"
      ]
     },
     "execution_count": 50,
     "metadata": {},
     "output_type": "execute_result"
    }
   ],
   "source": [
    "del_items"
   ]
  },
  {
   "cell_type": "code",
   "execution_count": 51,
   "metadata": {},
   "outputs": [
    {
     "data": {
      "text/plain": [
       "['Abid Khan',\n",
       " '0',\n",
       " 'Rashid',\n",
       " 'Konain',\n",
       " 'Qasim',\n",
       " 'Asif',\n",
       " 'Yasir',\n",
       " 'Qasim',\n",
       " 'Rashid',\n",
       " 'Qasim',\n",
       " 'Asif',\n",
       " 'Yasir',\n",
       " 'Qasim',\n",
       " 'Rashid',\n",
       " 'Ezat Ullah Khan']"
      ]
     },
     "execution_count": 51,
     "metadata": {},
     "output_type": "execute_result"
    }
   ],
   "source": [
    "names"
   ]
  },
  {
   "cell_type": "code",
   "execution_count": 52,
   "metadata": {},
   "outputs": [
    {
     "data": {
      "text/plain": [
       "['Abid Khan',\n",
       " '0',\n",
       " 'Konain',\n",
       " 'Qasim',\n",
       " 'Asif',\n",
       " 'Yasir',\n",
       " 'Qasim',\n",
       " 'Rashid',\n",
       " 'Qasim',\n",
       " 'Asif',\n",
       " 'Yasir',\n",
       " 'Qasim',\n",
       " 'Rashid',\n",
       " 'Ezat Ullah Khan']"
      ]
     },
     "execution_count": 52,
     "metadata": {},
     "output_type": "execute_result"
    }
   ],
   "source": [
    "names.remove('Rashid') # Delete Value by text contain from first accurance\n",
    "names"
   ]
  },
  {
   "cell_type": "code",
   "execution_count": 55,
   "metadata": {},
   "outputs": [
    {
     "data": {
      "text/plain": [
       "['0',\n",
       " 'Abid Khan',\n",
       " 'Asif',\n",
       " 'Asif',\n",
       " 'Ezat Ullah Khan',\n",
       " 'Konain',\n",
       " 'Qasim',\n",
       " 'Qasim',\n",
       " 'Qasim',\n",
       " 'Qasim',\n",
       " 'Rashid',\n",
       " 'Rashid',\n",
       " 'Yasir',\n",
       " 'Yasir']"
      ]
     },
     "execution_count": 55,
     "metadata": {},
     "output_type": "execute_result"
    }
   ],
   "source": [
    "names.sort() # Sort in Memory\n",
    "names"
   ]
  },
  {
   "cell_type": "code",
   "execution_count": 56,
   "metadata": {},
   "outputs": [],
   "source": [
    "names.sort(reverse=True)"
   ]
  },
  {
   "cell_type": "code",
   "execution_count": 57,
   "metadata": {},
   "outputs": [
    {
     "data": {
      "text/plain": [
       "['Yasir',\n",
       " 'Yasir',\n",
       " 'Rashid',\n",
       " 'Rashid',\n",
       " 'Qasim',\n",
       " 'Qasim',\n",
       " 'Qasim',\n",
       " 'Qasim',\n",
       " 'Konain',\n",
       " 'Ezat Ullah Khan',\n",
       " 'Asif',\n",
       " 'Asif',\n",
       " 'Abid Khan',\n",
       " '0']"
      ]
     },
     "execution_count": 57,
     "metadata": {},
     "output_type": "execute_result"
    }
   ],
   "source": [
    "names"
   ]
  },
  {
   "cell_type": "code",
   "execution_count": 60,
   "metadata": {},
   "outputs": [
    {
     "data": {
      "text/plain": [
       "['Zubair', 'H', 'a', 'm', 'z', 'a', 'a', 'Rashid', 'Konain']"
      ]
     },
     "execution_count": 60,
     "metadata": {},
     "output_type": "execute_result"
    }
   ],
   "source": [
    "dimt_students.reverse()\n",
    "dimt_students"
   ]
  },
  {
   "cell_type": "code",
   "execution_count": null,
   "metadata": {},
   "outputs": [],
   "source": [
    "names.clear() # Remove all elements from list"
   ]
  },
  {
   "cell_type": "code",
   "execution_count": 61,
   "metadata": {},
   "outputs": [
    {
     "data": {
      "text/plain": [
       "['Yasir',\n",
       " 'Yasir',\n",
       " 'Rashid',\n",
       " 'Rashid',\n",
       " 'Qasim',\n",
       " 'Qasim',\n",
       " 'Qasim',\n",
       " 'Qasim',\n",
       " 'Konain',\n",
       " 'Ezat Ullah Khan',\n",
       " 'Asif',\n",
       " 'Asif',\n",
       " 'Abid Khan',\n",
       " '0']"
      ]
     },
     "execution_count": 61,
     "metadata": {},
     "output_type": "execute_result"
    }
   ],
   "source": [
    "abc=names.copy()\n",
    "abc"
   ]
  },
  {
   "cell_type": "code",
   "execution_count": 62,
   "metadata": {},
   "outputs": [],
   "source": [
    "xyz=['Safaraz','Mustufu','Abid']\n",
    "\n",
    "names.extend(xyz)"
   ]
  },
  {
   "cell_type": "code",
   "execution_count": 63,
   "metadata": {},
   "outputs": [
    {
     "data": {
      "text/plain": [
       "['Yasir',\n",
       " 'Yasir',\n",
       " 'Rashid',\n",
       " 'Rashid',\n",
       " 'Qasim',\n",
       " 'Qasim',\n",
       " 'Qasim',\n",
       " 'Qasim',\n",
       " 'Konain',\n",
       " 'Ezat Ullah Khan',\n",
       " 'Asif',\n",
       " 'Asif',\n",
       " 'Abid Khan',\n",
       " '0',\n",
       " 'Safaraz',\n",
       " 'Mustufu',\n",
       " 'Abid']"
      ]
     },
     "execution_count": 63,
     "metadata": {},
     "output_type": "execute_result"
    }
   ],
   "source": [
    "names"
   ]
  },
  {
   "cell_type": "code",
   "execution_count": 64,
   "metadata": {},
   "outputs": [
    {
     "data": {
      "text/plain": [
       "['ali', 'Hamza', 'junaid', 'Safaraz', 'Mustufu', 'Abid']"
      ]
     },
     "execution_count": 64,
     "metadata": {},
     "output_type": "execute_result"
    }
   ],
   "source": [
    "abc = ['ali','Hamza','junaid'] + xyz\n",
    "abc"
   ]
  },
  {
   "cell_type": "code",
   "execution_count": 67,
   "metadata": {},
   "outputs": [
    {
     "data": {
      "text/plain": [
       "3"
      ]
     },
     "execution_count": 67,
     "metadata": {},
     "output_type": "execute_result"
    }
   ],
   "source": [
    "abc.index('Safaraz')"
   ]
  },
  {
   "cell_type": "code",
   "execution_count": null,
   "metadata": {},
   "outputs": [],
   "source": []
  }
 ],
 "metadata": {
  "kernelspec": {
   "display_name": "Python 3",
   "language": "python",
   "name": "python3"
  },
  "language_info": {
   "codemirror_mode": {
    "name": "ipython",
    "version": 3
   },
   "file_extension": ".py",
   "mimetype": "text/x-python",
   "name": "python",
   "nbconvert_exporter": "python",
   "pygments_lexer": "ipython3",
   "version": "3.6.4"
  }
 },
 "nbformat": 4,
 "nbformat_minor": 2
}
